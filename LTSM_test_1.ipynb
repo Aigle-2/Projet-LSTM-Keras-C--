{
 "cells": [
  {
   "cell_type": "code",
   "execution_count": 1,
   "id": "e98b322d",
   "metadata": {},
   "outputs": [
    {
     "name": "stderr",
     "output_type": "stream",
     "text": [
      "2023-01-12 11:59:53.847342: I tensorflow/core/platform/cpu_feature_guard.cc:193] This TensorFlow binary is optimized with oneAPI Deep Neural Network Library (oneDNN) to use the following CPU instructions in performance-critical operations:  SSE4.1 SSE4.2 AVX AVX2 AVX512F AVX512_VNNI FMA\n",
      "To enable them in other operations, rebuild TensorFlow with the appropriate compiler flags.\n"
     ]
    },
    {
     "name": "stdout",
     "output_type": "stream",
     "text": [
      "     0    0\n",
      "0  NaN  0.0\n",
      "1  0.0  0.1\n",
      "2  0.1  0.2\n",
      "3  0.2  0.3\n",
      "4  0.3  0.4\n",
      "5  0.4  0.5\n",
      "6  0.5  0.6\n",
      "7  0.6  0.7\n",
      "8  0.7  0.8\n",
      "9  0.8  0.9\n",
      "[[0.  0.1]\n",
      " [0.1 0.2]\n",
      " [0.2 0.3]\n",
      " [0.3 0.4]\n",
      " [0.4 0.5]\n",
      " [0.5 0.6]\n",
      " [0.6 0.7]\n",
      " [0.7 0.8]\n",
      " [0.8 0.9]]\n",
      "[0.7 0.2 0.1 0.4 0.8 0.6 0.3 0.  0.5] [0.8 0.3 0.2 0.5 0.9 0.7 0.4 0.1 0.6]\n"
     ]
    },
    {
     "name": "stderr",
     "output_type": "stream",
     "text": [
      "2023-01-12 11:59:55.180654: I tensorflow/core/platform/cpu_feature_guard.cc:193] This TensorFlow binary is optimized with oneAPI Deep Neural Network Library (oneDNN) to use the following CPU instructions in performance-critical operations:  SSE4.1 SSE4.2 AVX AVX2 AVX512F AVX512_VNNI FMA\n",
      "To enable them in other operations, rebuild TensorFlow with the appropriate compiler flags.\n",
      "2023-01-12 11:59:55.182723: I tensorflow/core/common_runtime/process_util.cc:146] Creating new thread pool with default inter op setting: 2. Tune using inter_op_parallelism_threads for best performance.\n"
     ]
    },
    {
     "name": "stdout",
     "output_type": "stream",
     "text": [
      "1/1 - 0s - loss: 7.4713e-06 - 206ms/epoch - 206ms/step\n",
      "7.471349363186164e-06\n",
      "1/1 [==============================] - 0s 304ms/step\n",
      "[[0.8017842 ]\n",
      " [0.29646093]\n",
      " [0.19895098]\n",
      " [0.49879485]\n",
      " [0.8988327 ]\n",
      " [0.70227283]\n",
      " [0.39686036]\n",
      " [0.10562546]\n",
      " [0.6009743 ]]\n",
      "Model: \"sequential\"\n",
      "_________________________________________________________________\n",
      " Layer (type)                Output Shape              Param #   \n",
      "=================================================================\n",
      " lstm (LSTM)                 (None, 10)                480       \n",
      "                                                                 \n",
      " dense (Dense)               (None, 1)                 11        \n",
      "                                                                 \n",
      "=================================================================\n",
      "Total params: 491\n",
      "Trainable params: 491\n",
      "Non-trainable params: 0\n",
      "_________________________________________________________________\n",
      "None\n"
     ]
    },
    {
     "data": {
      "image/png": "[encoded data removed]",
      "text/plain": [
       "<Figure size 640x480 with 1 Axes>"
      ]
     },
     "metadata": {},
     "output_type": "display_data"
    }
   ],
   "source": [
    "# Importing the required objects from libraries for learning the sampleEducbaSequence\n",
    "import pandas\n",
    "import numpy as np\n",
    "import matplotlib.pyplot as plt\n",
    "import tensorflow as tf\n",
    "import random\n",
    "from tensorflow import keras\n",
    "from tensorflow.keras import layers\n",
    "from pandas import DataFrame\n",
    "from pandas import concat\n",
    "# from tensorflow.keras.Model import Sequential\n",
    "from tensorflow.keras.layers import Dense\n",
    "from tensorflow.keras.layers import LSTM\n",
    "from sklearn.utils import shuffle\n",
    "\n",
    "tf.keras.backend.clear_session()\n",
    "# tf.compat.v1.disable_eager_execution() #IF ERROR, UNCOMMENT\n",
    "# sampleEducbaSequence creation\n",
    "totalLength = 10\n",
    "sampleEducbaSequence = [i/float(totalLength) for i in range(totalLength)]\n",
    "# print(sampleEducbaSequence)\n",
    "# x - y pairs are created\n",
    "sampleDataFrameObj = DataFrame(sampleEducbaSequence)\n",
    "# print(sampleDataFrameObj)\n",
    "sampleDataFrameObj = concat([sampleDataFrameObj.shift(1), sampleDataFrameObj], axis=1)\n",
    "print(sampleDataFrameObj)\n",
    "sampleDataFrameObj.dropna(inplace=True)\n",
    "# print(sampleDataFrameObj)\n",
    "#  conversion of the created inputSampleValues to LSTM friendly structure\n",
    "inputSampleValues = sampleDataFrameObj.values\n",
    "print(inputSampleValues)\n",
    "X, y = inputSampleValues[:, 0], inputSampleValues[:, 1]\n",
    "X, y = shuffle(X, y, random_state=0)\n",
    "print(X, y)\n",
    "# print(X)\n",
    "X = X.reshape(len(X), 1, 1)\n",
    "# print(type(X[0][0][0]))\n",
    "\n",
    "# 1. network definition\n",
    "sampleEducbaModel = keras.Sequential()\n",
    "sampleEducbaModel.add(LSTM(10, input_shape=(1,1)))\n",
    "# sampleEducbaModel.add(Dense(100))\n",
    "# sampleEducbaModel.add(Dense(100))\n",
    "sampleEducbaModel.add(Dense(1))\n",
    "# sampleEducbaModel.add(Dense(1))\n",
    "# 2. network is compiled here\n",
    "sampleEducbaModel.compile(optimizer=tf.keras.optimizers.Adam(learning_rate=1e-3), loss='mean_squared_error')\n",
    "# 3. we will need to fit the created network\n",
    "callbacks = [\n",
    "    tf.keras.callbacks.EarlyStopping(patience=2, monitor=\"loss\",min_delta=0.00000001)\n",
    "]\n",
    "history = sampleEducbaModel.fit(X, y, epochs=500000, batch_size=len(X), verbose=0,callbacks=callbacks)\n",
    "# 4. network evaluation needs to be done\n",
    "calculatedLoss = sampleEducbaModel.evaluate(X, y, verbose=2)\n",
    "print(calculatedLoss)\n",
    "# 5. we can make the required achievedPredictions by using the created network\n",
    "achievedPredictions = sampleEducbaModel.predict(X, verbose=1)\n",
    "print(achievedPredictions)\n",
    "print(sampleEducbaModel.summary())\n",
    "dot_img_file = '/tmp/model_1.png'\n",
    "tf.keras.utils.plot_model(sampleEducbaModel, to_file=dot_img_file, show_shapes=True)\n",
    "plt.plot(history.history['loss'])\n",
    "# plt.plot(history.history['val_loss'])\n",
    "plt.title('model loss')\n",
    "plt.ylabel('loss')\n",
    "plt.xlabel('epoch')\n",
    "plt.legend(['train', 'test'], loc='upper left')\n",
    "plt.show()"
   ]
  },
  {
   "cell_type": "code",
   "execution_count": null,
   "id": "6ade9b6a",
   "metadata": {},
   "outputs": [],
   "source": []
  }
 ],
 "metadata": {
  "kernelspec": {
   "display_name": "Python 3 (ipykernel)",
   "language": "python",
   "name": "python3"
  },
  "language_info": {
   "codemirror_mode": {
    "name": "ipython",
    "version": 3
   },
   "file_extension": ".py",
   "mimetype": "text/x-python",
   "name": "python",
   "nbconvert_exporter": "python",
   "pygments_lexer": "ipython3",
   "version": "3.10.8"
  }
 },
 "nbformat": 4,
 "nbformat_minor": 5
}
